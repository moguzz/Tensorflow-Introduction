{
  "nbformat": 4,
  "nbformat_minor": 0,
  "metadata": {
    "colab": {
      "name": "1_.ipynb",
      "provenance": [],
      "authorship_tag": "ABX9TyNTxjG/wwtLgk8dTruMCyE4"
    },
    "kernelspec": {
      "name": "python3",
      "display_name": "Python 3"
    },
    "language_info": {
      "name": "python"
    },
    "accelerator": "GPU"
  },
  "cells": [
    {
      "cell_type": "markdown",
      "source": [
        "Kullanılacak olan giriş/çıkıştaki formül 2x/4 +10 'dur. Modelin ağırlıkları 0.5 ve 10 olarak bulması gerekmektedir. (Sayıyı 0.5 ile çarp ve 10 ekle)"
      ],
      "metadata": {
        "id": "2blWccw4sB3K"
      }
    },
    {
      "cell_type": "code",
      "execution_count": 1,
      "metadata": {
        "id": "NWUVJCxfh6eH"
      },
      "outputs": [],
      "source": [
        "import tensorflow as tf\n",
        "import numpy as np"
      ]
    },
    {
      "cell_type": "code",
      "source": [
        "input = np.array([2,6,10,25,50,77,83,100], dtype = float)\n",
        "output = np.array([11,13,15,35,22.5,48.5,51.5,60], dtype = float)"
      ],
      "metadata": {
        "id": "SniVuMwviUSD"
      },
      "execution_count": 2,
      "outputs": []
    },
    {
      "cell_type": "code",
      "source": [
        "model = tf.keras.Sequential(tf.keras.layers.Dense(units = 1, input_shape = [1]))"
      ],
      "metadata": {
        "id": "GUD1siGDjYRT"
      },
      "execution_count": 3,
      "outputs": []
    },
    {
      "cell_type": "markdown",
      "source": [
        "Input shape katmana girişin tek bir değer olduğunu belirtir, burada giriş tek üyeye sahip tek boyutlu bir dizidir.\n",
        "\n",
        "Units katmandaki nöron sayısını belirtir, bu aynı zamanda çıktı katmanıdır ayrıca çok katmanlı bir ağda katmanın boyutunun ve şeklinin bir sonraki katmanın şekli ile aynı olması gerekir.\n",
        "\n",
        "Sequantial model her katmanın tam olarak bir giriş tensörüne ve bir çıkış tensörüne sahip olduğu düz bir katman yığını için uygundur."
      ],
      "metadata": {
        "id": "zdfhJUlPmIKG"
      }
    },
    {
      "cell_type": "code",
      "source": [
        "model.compile(loss = 'mean_squared_error',\n",
        "              optimizer = tf.keras.optimizers.Adam(0.1))"
      ],
      "metadata": {
        "id": "eaO8bhjMliAF"
      },
      "execution_count": 4,
      "outputs": []
    },
    {
      "cell_type": "markdown",
      "source": [
        "Model oluşturulduktan sonra derlenmesi gerekmektedir, derlenme yapılırken loss ve optimizer girilmelidir.\n",
        "\n",
        "**Loss Function:** Çıkışta elde edilecek tahminlerin gerçek sonuçtan ne kadar uzak olduğunu ölçmenin yolu.\n",
        "\n",
        "**Optimizer Function:** Kaybı azaltmak için iç değerleri ayarlamanın bir yolu. İçerisinde bulunan 0.1 ise learning rate yani öğrenme hızıdır. Parametreler güncellenirken öğrenme hızı kullanılmaktadır."
      ],
      "metadata": {
        "id": "f6Q1lkMWmssp"
      }
    },
    {
      "cell_type": "code",
      "source": [
        "fitter = model.fit(input,\n",
        "                   output,\n",
        "                   epochs = 500,\n",
        "                   verbose = False)"
      ],
      "metadata": {
        "id": "otQH5BqEnJqW"
      },
      "execution_count": 5,
      "outputs": []
    },
    {
      "cell_type": "markdown",
      "source": [
        "Model eğitilirken girilen parametrelerden **epochs** eğitimin kaç defa tekrarlanacağını belirtirken **verbose** parametresi ise eğitim yapılırken verilen ayrıntıları (hangi adımda olunduğu vs.) gizlememize yarar."
      ],
      "metadata": {
        "id": "SlId2NZDpXJe"
      }
    },
    {
      "cell_type": "code",
      "source": [
        "import matplotlib.pyplot as plt\n",
        "plt.xlabel('Tekrar Sayısı')\n",
        "plt.ylabel('Kayıp')\n",
        "plt.plot(fitter.history['loss']);"
      ],
      "metadata": {
        "colab": {
          "base_uri": "https://localhost:8080/",
          "height": 279
        },
        "id": "2T9X9UHlpl_c",
        "outputId": "ad409670-e92b-4a44-b6dd-592cb6139d12"
      },
      "execution_count": 6,
      "outputs": [
        {
          "output_type": "display_data",
          "data": {
            "image/png": "[encoded data removed]",
            "text/plain": [
              "<Figure size 432x288 with 1 Axes>"
            ]
          },
          "metadata": {
            "needs_background": "light"
          }
        }
      ]
    },
    {
      "cell_type": "code",
      "source": [
        "#gerçek değerler için fonksiyon\n",
        "def form(x):\n",
        "  y = ((x*2)/4) +10\n",
        "  return y"
      ],
      "metadata": {
        "id": "NMLDPPWTrA1s"
      },
      "execution_count": 7,
      "outputs": []
    },
    {
      "cell_type": "code",
      "source": [
        "print('55 için tahmin: ',model.predict([55]))\n",
        "print('110 için tahmin: ',model.predict([110]))\n",
        "print('500 için tahmin: ',model.predict([500]))\n",
        "print('1113 için tahmin: ', model.predict([1113]))\n",
        "print('10k3 için tahmin: ',model.predict([10003]))"
      ],
      "metadata": {
        "colab": {
          "base_uri": "https://localhost:8080/"
        },
        "id": "68Va4ezIqI71",
        "outputId": "ab4bdbf4-dcb5-471d-f862-d4e868015169"
      },
      "execution_count": 8,
      "outputs": [
        {
          "output_type": "stream",
          "name": "stdout",
          "text": [
            "55 için tahmin:  [[36.89776]]\n",
            "110 için tahmin:  [[63.599464]]\n",
            "500 için tahmin:  [[252.93886]]\n",
            "1113 için tahmin:  [[550.5415]]\n",
            "10k3 için tahmin:  [[4866.509]]\n"
          ]
        }
      ]
    },
    {
      "cell_type": "code",
      "source": [
        "pred = [55,110,500,1113,10003]\n",
        "for i in pred:\n",
        "  print(form(i))"
      ],
      "metadata": {
        "colab": {
          "base_uri": "https://localhost:8080/"
        },
        "id": "cjbmZqxUrNmj",
        "outputId": "17806e08-619c-4043-8d4d-3c76edd50e32"
      },
      "execution_count": 9,
      "outputs": [
        {
          "output_type": "stream",
          "name": "stdout",
          "text": [
            "37.5\n",
            "65.0\n",
            "260.0\n",
            "566.5\n",
            "5011.5\n"
          ]
        }
      ]
    },
    {
      "cell_type": "code",
      "source": [
        "#Modelin ağırlıkları\n",
        "model.get_weights()"
      ],
      "metadata": {
        "colab": {
          "base_uri": "https://localhost:8080/"
        },
        "id": "QBxwfi3jr1qF",
        "outputId": "af73a8c0-b7f7-41f7-a094-79f9a567b801"
      },
      "execution_count": 10,
      "outputs": [
        {
          "output_type": "execute_result",
          "data": {
            "text/plain": [
              "[array([[0.4854856]], dtype=float32), array([10.196051], dtype=float32)]"
            ]
          },
          "metadata": {},
          "execution_count": 10
        }
      ]
    }
  ]
}